{
  "nbformat": 4,
  "nbformat_minor": 0,
  "metadata": {
    "colab": {
      "provenance": [],
      "authorship_tag": "ABX9TyOaUxMcAF7yom65MZ+cSX4V",
      "include_colab_link": true
    },
    "kernelspec": {
      "name": "python3",
      "display_name": "Python 3"
    },
    "language_info": {
      "name": "python"
    }
  },
  "cells": [
    {
      "cell_type": "markdown",
      "metadata": {
        "id": "view-in-github",
        "colab_type": "text"
      },
      "source": [
        "<a href=\"https://colab.research.google.com/github/raunakyadav92/googlecalender/blob/main/googlecalender.ipynb\" target=\"_parent\"><img src=\"https://colab.research.google.com/assets/colab-badge.svg\" alt=\"Open In Colab\"/></a>"
      ]
    },
    {
      "cell_type": "code",
      "execution_count": null,
      "metadata": {
        "id": "2EWVD_bjEciV"
      },
      "outputs": [],
      "source": [
        "pip install --upgrade google-api-python-client google-auth-httplib2 google-auth-oauthlib\n"
      ]
    },
    {
      "cell_type": "code",
      "source": [
        "from __future__ import print_function\n",
        "import datetime\n",
        "import os.path\n",
        "from google.oauth2.credentials import Credentials\n",
        "from google_auth_oauthlib.flow import InstalledAppFlow\n",
        "from googleapiclient.discovery import build\n",
        "\n",
        "# If modifying these SCOPES, delete token.json\n",
        "SCOPES = ['https://www.googleapis.com/auth/calendar.events']\n",
        "\n",
        "def create_calendar_event():\n",
        "    creds = None\n",
        "    if os.path.exists('token.json'):\n",
        "        creds = Credentials.from_authorized_user_file('token.json', SCOPES)\n",
        "    else:\n",
        "        flow = InstalledAppFlow.from_client_secrets_file('credentials.json', SCOPES)\n",
        "        creds = flow.run_local_server(port=0)\n",
        "\n",
        "    service = build('calendar', 'v3', credentials=creds)\n",
        "\n",
        "    reminder = input(\"📝 Enter your reminder title: \")\n",
        "    minutes = int(input(\"⏳ In how many minutes? \"))\n",
        "\n",
        "    start_time = datetime.datetime.utcnow() + datetime.timedelta(minutes=minutes)\n",
        "    end_time = start_time + datetime.timedelta(minutes=10)  # Event duration 10 min\n",
        "\n",
        "    event = {\n",
        "        'summary': reminder,\n",
        "        'start': {\n",
        "            'dateTime': start_time.isoformat() + 'Z',\n",
        "            'timeZone': 'UTC',\n",
        "        },\n",
        "        'end': {\n",
        "            'dateTime': end_time.isoformat() + 'Z',\n",
        "            'timeZone': 'UTC',\n",
        "        },\n",
        "    }\n",
        "\n",
        "    event_result = service.events().insert(calendarId='primary', body=event).execute()\n",
        "    print(f\"✅ Event created: {event_result.get('htmlLink')}\")\n",
        "\n",
        "if __name__ == '__main__':\n",
        "    create_calendar_event()\n"
      ],
      "metadata": {
        "id": "ooEJRplsEd3e"
      },
      "execution_count": null,
      "outputs": []
    }
  ]
}